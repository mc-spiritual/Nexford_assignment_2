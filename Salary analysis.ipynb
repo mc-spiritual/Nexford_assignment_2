{
 "cells": [
  {
   "cell_type": "code",
   "execution_count": 6,
   "id": "7eb157e7",
   "metadata": {},
   "outputs": [
    {
     "name": "stderr",
     "output_type": "stream",
     "text": [
      "C:\\Users\\DELL\\AppData\\Local\\Temp\\ipykernel_10524\\783959967.py:5: DtypeWarning: Columns (2,3,4,5) have mixed types. Specify dtype option on import or set low_memory=False.\n",
      "  df = pd.read_csv('Total.csv')  # I downloaded the Total.csv file from the url provided\n"
     ]
    },
    {
     "data": {
      "text/html": [
       "<div>\n",
       "<style scoped>\n",
       "    .dataframe tbody tr th:only-of-type {\n",
       "        vertical-align: middle;\n",
       "    }\n",
       "\n",
       "    .dataframe tbody tr th {\n",
       "        vertical-align: top;\n",
       "    }\n",
       "\n",
       "    .dataframe thead th {\n",
       "        text-align: right;\n",
       "    }\n",
       "</style>\n",
       "<table border=\"1\" class=\"dataframe\">\n",
       "  <thead>\n",
       "    <tr style=\"text-align: right;\">\n",
       "      <th></th>\n",
       "      <th>EmployeeName</th>\n",
       "      <th>JobTitle</th>\n",
       "      <th>BasePay</th>\n",
       "      <th>OvertimePay</th>\n",
       "      <th>OtherPay</th>\n",
       "      <th>Benefits</th>\n",
       "      <th>TotalPay</th>\n",
       "      <th>TotalPayBenefits</th>\n",
       "      <th>Year</th>\n",
       "    </tr>\n",
       "  </thead>\n",
       "  <tbody>\n",
       "    <tr>\n",
       "      <th>0</th>\n",
       "      <td>NATHANIEL FORD</td>\n",
       "      <td>GENERAL MANAGER-METROPOLITAN TRANSIT AUTHORITY</td>\n",
       "      <td>167411.18</td>\n",
       "      <td>0.0</td>\n",
       "      <td>400184.25</td>\n",
       "      <td>Not Provided</td>\n",
       "      <td>567595.43</td>\n",
       "      <td>567595.43</td>\n",
       "      <td>2011</td>\n",
       "    </tr>\n",
       "    <tr>\n",
       "      <th>1</th>\n",
       "      <td>GARY JIMENEZ</td>\n",
       "      <td>CAPTAIN III (POLICE DEPARTMENT)</td>\n",
       "      <td>155966.02</td>\n",
       "      <td>245131.88</td>\n",
       "      <td>137811.38</td>\n",
       "      <td>Not Provided</td>\n",
       "      <td>538909.28</td>\n",
       "      <td>538909.28</td>\n",
       "      <td>2011</td>\n",
       "    </tr>\n",
       "    <tr>\n",
       "      <th>2</th>\n",
       "      <td>ALBERT PARDINI</td>\n",
       "      <td>CAPTAIN III (POLICE DEPARTMENT)</td>\n",
       "      <td>212739.13</td>\n",
       "      <td>106088.18</td>\n",
       "      <td>16452.6</td>\n",
       "      <td>Not Provided</td>\n",
       "      <td>335279.91</td>\n",
       "      <td>335279.91</td>\n",
       "      <td>2011</td>\n",
       "    </tr>\n",
       "    <tr>\n",
       "      <th>3</th>\n",
       "      <td>CHRISTOPHER CHONG</td>\n",
       "      <td>WIRE ROPE CABLE MAINTENANCE MECHANIC</td>\n",
       "      <td>77916.0</td>\n",
       "      <td>56120.71</td>\n",
       "      <td>198306.9</td>\n",
       "      <td>Not Provided</td>\n",
       "      <td>332343.61</td>\n",
       "      <td>332343.61</td>\n",
       "      <td>2011</td>\n",
       "    </tr>\n",
       "    <tr>\n",
       "      <th>4</th>\n",
       "      <td>PATRICK GARDNER</td>\n",
       "      <td>DEPUTY CHIEF OF DEPARTMENT,(FIRE DEPARTMENT)</td>\n",
       "      <td>134401.6</td>\n",
       "      <td>9737.0</td>\n",
       "      <td>182234.59</td>\n",
       "      <td>Not Provided</td>\n",
       "      <td>326373.19</td>\n",
       "      <td>326373.19</td>\n",
       "      <td>2011</td>\n",
       "    </tr>\n",
       "  </tbody>\n",
       "</table>\n",
       "</div>"
      ],
      "text/plain": [
       "        EmployeeName                                        JobTitle  \\\n",
       "0     NATHANIEL FORD  GENERAL MANAGER-METROPOLITAN TRANSIT AUTHORITY   \n",
       "1       GARY JIMENEZ                 CAPTAIN III (POLICE DEPARTMENT)   \n",
       "2     ALBERT PARDINI                 CAPTAIN III (POLICE DEPARTMENT)   \n",
       "3  CHRISTOPHER CHONG            WIRE ROPE CABLE MAINTENANCE MECHANIC   \n",
       "4    PATRICK GARDNER    DEPUTY CHIEF OF DEPARTMENT,(FIRE DEPARTMENT)   \n",
       "\n",
       "     BasePay OvertimePay   OtherPay      Benefits   TotalPay  \\\n",
       "0  167411.18         0.0  400184.25  Not Provided  567595.43   \n",
       "1  155966.02   245131.88  137811.38  Not Provided  538909.28   \n",
       "2  212739.13   106088.18    16452.6  Not Provided  335279.91   \n",
       "3    77916.0    56120.71   198306.9  Not Provided  332343.61   \n",
       "4   134401.6      9737.0  182234.59  Not Provided  326373.19   \n",
       "\n",
       "   TotalPayBenefits  Year  \n",
       "0         567595.43  2011  \n",
       "1         538909.28  2011  \n",
       "2         335279.91  2011  \n",
       "3         332343.61  2011  \n",
       "4         326373.19  2011  "
      ]
     },
     "execution_count": 6,
     "metadata": {},
     "output_type": "execute_result"
    }
   ],
   "source": [
    "# Import necessary libraries\n",
    "import pandas as pd\n",
    "\n",
    "# Load the salary data\n",
    "df = pd.read_csv('Total.csv')  # I downloaded the Total.csv file from the url provided\n",
    "\n",
    "df.head() # Display the first few rows of the dataframe to understand its structure\n"
   ]
  },
  {
   "cell_type": "code",
   "execution_count": null,
   "id": "3b3a56a7",
   "metadata": {},
   "outputs": [],
   "source": [
    "# Create Employee Function:\n",
    "# This code defines a function to return employee details\n",
    "def employee_function(name):\n",
    "    \"\"\"\n",
    "    Accepts an employee's name and returns their details.\n",
    "    \"\"\"\n",
    "    # Filter the DataFrame by employee name (case-insensitive)\n",
    "    employee = df[df['EmployeeName'].str.lower() == name.lower()]\n",
    "    return employee\n",
    "\n"
   ]
  },
  {
   "cell_type": "code",
   "execution_count": 12,
   "id": "a5396264",
   "metadata": {},
   "outputs": [
    {
     "name": "stdout",
     "output_type": "stream",
     "text": [
      "     EmployeeName                                        JobTitle    BasePay  \\\n",
      "0  NATHANIEL FORD  GENERAL MANAGER-METROPOLITAN TRANSIT AUTHORITY  167411.18   \n",
      "\n",
      "  OvertimePay   OtherPay      Benefits   TotalPay  TotalPayBenefits  Year  \n",
      "0         0.0  400184.25  Not Provided  567595.43         567595.43  2011  \n"
     ]
    }
   ],
   "source": [
    "#  Use input to test the function\n",
    "employee_name = input(\"Enter employee name: \")\n",
    "print(employee_function(employee_name))\n"
   ]
  },
  {
   "cell_type": "code",
   "execution_count": null,
   "id": "695b31f4",
   "metadata": {},
   "outputs": [
    {
     "name": "stdout",
     "output_type": "stream",
     "text": [
      "Empty DataFrame\n",
      "Columns: [EmployeeName, JobTitle, BasePay, OvertimePay, OtherPay, Benefits, TotalPay, TotalPayBenefits, Year]\n",
      "Index: []\n"
     ]
    }
   ],
   "source": [
    "#  Use input to test for name not found in the dataframe\n",
    "employee_name = input(\"Enter employee name: \")\n",
    "print(employee_function(employee_name))"
   ]
  },
  {
   "cell_type": "code",
   "execution_count": 14,
   "id": "6fc621c8",
   "metadata": {},
   "outputs": [],
   "source": [
    "#Data Processing with Dictionary:\n",
    "# This code modifies the employee function to create a dictionary to store employee details when the name is not found in the dataframe\n",
    "def employee_function(name):\n",
    "    \"\"\"\n",
    "    Accepts an employee's name and returns their details.\n",
    "    \"\"\"\n",
    "    # Filter the DataFrame by employee name (case-insensitive)\n",
    "    employee = df[df['EmployeeName'].str.lower() == name.lower()]\n",
    "    \n",
    "    # If the employee is not found, create a dictionary with the name\n",
    "    if employee.empty:\n",
    "        return {\"EmployeeName\": name, \"Details\": \"Not Found\"}\n",
    "    \n",
    "    return employee.to_dict(orient='records')[0]  # Convert to dictionary format"
   ]
  },
  {
   "cell_type": "code",
   "execution_count": 15,
   "id": "ec2e1dd8",
   "metadata": {},
   "outputs": [
    {
     "name": "stdout",
     "output_type": "stream",
     "text": [
      "{'EmployeeName': 'NATHANIEL FORD', 'JobTitle': 'GENERAL MANAGER-METROPOLITAN TRANSIT AUTHORITY', 'BasePay': 167411.18, 'OvertimePay': 0.0, 'OtherPay': 400184.25, 'Benefits': 'Not Provided', 'TotalPay': 567595.43, 'TotalPayBenefits': 567595.43, 'Year': 2011}\n"
     ]
    }
   ],
   "source": [
    "#  Use input to test the function\n",
    "employee_name = input(\"Enter employee name: \")\n",
    "print(employee_function(employee_name))"
   ]
  },
  {
   "cell_type": "code",
   "execution_count": 16,
   "id": "8f6fa8eb",
   "metadata": {},
   "outputs": [
    {
     "name": "stdout",
     "output_type": "stream",
     "text": [
      "{'EmployeeName': 'Victoria ', 'Details': 'Not Found'}\n"
     ]
    }
   ],
   "source": [
    "#  Use input to test for name not found in the dataframe\n",
    "employee_name = input(\"Enter employee name: \")\n",
    "print(employee_function(employee_name))"
   ]
  },
  {
   "cell_type": "code",
   "execution_count": 17,
   "id": "4af0f462",
   "metadata": {},
   "outputs": [],
   "source": [
    "#Error Handling:\n",
    "# This code adds error handling to the employee function to manage unexpected inputs\n",
    "def employee_function(name):\n",
    "    \"\"\"\n",
    "    Accepts an employee's name and returns their details.\n",
    "    \"\"\"\n",
    "    try:\n",
    "        # Filter the DataFrame by employee name (case-insensitive)\n",
    "        employee = df[df['EmployeeName'].str.lower() == name.lower()]\n",
    "        \n",
    "        # If the employee is not found, create a dictionary with the name\n",
    "        if employee.empty:\n",
    "            return {\"EmployeeName\": name, \"Details\": \"Not Found\"}\n",
    "        \n",
    "        return employee.to_dict(orient='records')[0]  # Convert to dictionary format\n",
    "    \n",
    "    except Exception as e:\n",
    "        return {\"Error\": str(e)}  # Return error message in case of an exception"
   ]
  },
  {
   "cell_type": "code",
   "execution_count": 19,
   "id": "9d0e4b37",
   "metadata": {},
   "outputs": [
    {
     "name": "stdout",
     "output_type": "stream",
     "text": [
      "{'EmployeeName': 'NATHANIEL FORD', 'JobTitle': 'GENERAL MANAGER-METROPOLITAN TRANSIT AUTHORITY', 'BasePay': 167411.18, 'OvertimePay': 0.0, 'OtherPay': 400184.25, 'Benefits': 'Not Provided', 'TotalPay': 567595.43, 'TotalPayBenefits': 567595.43, 'Year': 2011}\n"
     ]
    }
   ],
   "source": [
    "employee_name = input(\"Enter employee name: \")\n",
    "print(employee_function(employee_name))"
   ]
  },
  {
   "cell_type": "code",
   "execution_count": null,
   "id": "0bf6aa97",
   "metadata": {},
   "outputs": [],
   "source": [
    "#Export an employee's details to a CSV file and save it within a zipped folder named \"Employee Profile.\"\n",
    "import os\n",
    "import zipfile \n",
    "\n",
    "def export_employee_to_csv(employee_name):\n",
    "    \"\"\"\n",
    "    Exports employee details to a CSV file and saves it in a zipped folder.\n",
    "    \"\"\"\n",
    "    # Get employee details\n",
    "    employee = employee_function(employee_name)\n",
    "    \n",
    "    # Check if the employee was found\n",
    "    if \"Details\" in employee and employee[\"Details\"] == \"Not Found\":\n",
    "        return \"Employee not found.\"\n",
    "    \n",
    "    # Create directory for the zipped folder if it doesn't exist\n",
    "    os.makedirs(\"Employee Profile\", exist_ok=True)\n",
    "    \n",
    "    # Define CSV file path\n",
    "    csv_file_path = f\"Employee Profile/{employee['EmployeeName']}.csv\"\n",
    "    \n",
    "    # Save employee details to CSV\n",
    "    pd.DataFrame([employee]).to_csv(csv_file_path, index=False)\n",
    "    \n",
    "    # Create a zip file\n",
    "    with zipfile.ZipFile('Employee_Profile.zip', 'w') as zipf:\n",
    "        zipf.write(csv_file_path, os.path.basename(csv_file_path))\n",
    "    \n",
    "    return \"Employee details exported and zipped successfully.\"\n"
   ]
  },
  {
   "cell_type": "code",
   "execution_count": 21,
   "id": "7a6fad35",
   "metadata": {},
   "outputs": [
    {
     "name": "stdout",
     "output_type": "stream",
     "text": [
      "Employee details exported and zipped successfully.\n"
     ]
    }
   ],
   "source": [
    "#Quick test of the function\n",
    "employee_name = input(\"Enter employee name: \")\n",
    "print(export_employee_to_csv(employee_name))\n"
   ]
  }
 ],
 "metadata": {
  "kernelspec": {
   "display_name": "Python 3",
   "language": "python",
   "name": "python3"
  },
  "language_info": {
   "codemirror_mode": {
    "name": "ipython",
    "version": 3
   },
   "file_extension": ".py",
   "mimetype": "text/x-python",
   "name": "python",
   "nbconvert_exporter": "python",
   "pygments_lexer": "ipython3",
   "version": "3.12.5"
  }
 },
 "nbformat": 4,
 "nbformat_minor": 5
}
